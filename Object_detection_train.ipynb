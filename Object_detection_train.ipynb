{
  "nbformat": 4,
  "nbformat_minor": 0,
  "metadata": {
    "colab": {
      "provenance": [],
      "gpuType": "T4"
    },
    "kernelspec": {
      "name": "python3",
      "display_name": "Python 3"
    },
    "language_info": {
      "name": "python"
    },
    "accelerator": "GPU"
  },
  "cells": [
    {
      "cell_type": "code",
      "execution_count": 1,
      "metadata": {
        "colab": {
          "base_uri": "https://localhost:8080/"
        },
        "id": "PmhWTFjF-6Id",
        "outputId": "0ee97d71-4cb8-4c74-83b0-a719ae59bb9c"
      },
      "outputs": [
        {
          "metadata": {
            "tags": null
          },
          "name": "stdout",
          "output_type": "stream",
          "text": [
            "Available device = cuda\n"
          ]
        },
        {
          "metadata": {
            "tags": null
          },
          "name": "stderr",
          "output_type": "stream",
          "text": [
            "Downloading: \"https://download.pytorch.org/models/resnet50-19c8e357.pth\" to /root/.cache/torch/hub/checkpoints/resnet50-19c8e357.pth\n",
            "100%|██████████| 97.8M/97.8M [00:00<00:00, 261MB/s]\n"
          ]
        },
        {
          "metadata": {
            "tags": null
          },
          "name": "stdout",
          "output_type": "stream",
          "text": [
            "Downloading http://host.robots.ox.ac.uk/pascal/VOC/voc2012/VOCtrainval_11-May-2012.tar to /content/data/VOCtrainval_11-May-2012.tar\n"
          ]
        },
        {
          "metadata": {
            "tags": null
          },
          "name": "stderr",
          "output_type": "stream",
          "text": [
            "100%|██████████| 2.00G/2.00G [02:16<00:00, 14.7MB/s]\n"
          ]
        },
        {
          "metadata": {
            "tags": null
          },
          "name": "stdout",
          "output_type": "stream",
          "text": [
            "Extracting /content/data/VOCtrainval_11-May-2012.tar to /content/data\n"
          ]
        },
        {
          "metadata": {
            "tags": null
          },
          "name": "stderr",
          "output_type": "stream",
          "text": [
            "/usr/local/lib/python3.10/dist-packages/torch/utils/data/dataloader.py:617: UserWarning: This DataLoader will create 4 worker processes in total. Our suggested max number of worker in current system is 2, which is smaller than what this DataLoader is going to create. Please be aware that excessive worker creation might get DataLoader running slow or even freeze, lower the worker number to avoid potential slowness/freeze if necessary.\n",
            "  warnings.warn(\n"
          ]
        },
        {
          "metadata": {
            "tags": null
          },
          "name": "stdout",
          "output_type": "stream",
          "text": [
            "Using downloaded and verified file: /content/data/VOCtrainval_11-May-2012.tar\n",
            "Extracting /content/data/VOCtrainval_11-May-2012.tar to /content/data\n",
            "-------Epoch 1----------\n"
          ]
        },
        {
          "metadata": {
            "tags": null
          },
          "name": "stderr",
          "output_type": "stream",
          "text": [
            "/usr/local/lib/python3.10/dist-packages/torch/optim/lr_scheduler.py:224: UserWarning: Detected call of `lr_scheduler.step()` before `optimizer.step()`. In PyTorch 1.1.0 and later, you should call them in the opposite order: `optimizer.step()` before `lr_scheduler.step()`.  Failure to do this will result in PyTorch skipping the first value of the learning rate schedule. See more details at https://pytorch.org/docs/stable/optim.html#how-to-adjust-learning-rate\n",
            "  warnings.warn(\n"
          ]
        },
        {
          "metadata": {
            "tags": null
          },
          "name": "stdout",
          "output_type": "stream",
          "text": [
            "train_loss: 4.3031, train_avg_precision:0.550\n"
          ]
        },
        {
          "metadata": {
            "tags": null
          },
          "name": "stderr",
          "output_type": "stream",
          "text": [
            "/usr/local/lib/python3.10/dist-packages/torch/utils/data/dataloader.py:617: UserWarning: This DataLoader will create 4 worker processes in total. Our suggested max number of worker in current system is 2, which is smaller than what this DataLoader is going to create. Please be aware that excessive worker creation might get DataLoader running slow or even freeze, lower the worker number to avoid potential slowness/freeze if necessary.\n",
            "  warnings.warn(\n"
          ]
        },
        {
          "metadata": {
            "tags": null
          },
          "name": "stdout",
          "output_type": "stream",
          "text": [
            "val_loss: 2.8751, val_avg_precision:0.790\n",
            "-------Epoch 2----------\n"
          ]
        },
        {
          "metadata": {
            "tags": null
          },
          "name": "stderr",
          "output_type": "stream",
          "text": [
            "/usr/local/lib/python3.10/dist-packages/torch/utils/data/dataloader.py:617: UserWarning: This DataLoader will create 4 worker processes in total. Our suggested max number of worker in current system is 2, which is smaller than what this DataLoader is going to create. Please be aware that excessive worker creation might get DataLoader running slow or even freeze, lower the worker number to avoid potential slowness/freeze if necessary.\n",
            "  warnings.warn(\n"
          ]
        },
        {
          "metadata": {
            "tags": null
          },
          "name": "stdout",
          "output_type": "stream",
          "text": [
            "train_loss: 2.6538, train_avg_precision:0.813\n"
          ]
        },
        {
          "metadata": {
            "tags": null
          },
          "name": "stderr",
          "output_type": "stream",
          "text": [
            "/usr/local/lib/python3.10/dist-packages/torch/utils/data/dataloader.py:617: UserWarning: This DataLoader will create 4 worker processes in total. Our suggested max number of worker in current system is 2, which is smaller than what this DataLoader is going to create. Please be aware that excessive worker creation might get DataLoader running slow or even freeze, lower the worker number to avoid potential slowness/freeze if necessary.\n",
            "  warnings.warn(\n"
          ]
        },
        {
          "metadata": {
            "tags": null
          },
          "name": "stdout",
          "output_type": "stream",
          "text": [
            "val_loss: 2.0575, val_avg_precision:0.882\n",
            "-------Epoch 3----------\n"
          ]
        },
        {
          "metadata": {
            "tags": null
          },
          "name": "stderr",
          "output_type": "stream",
          "text": [
            "/usr/local/lib/python3.10/dist-packages/torch/utils/data/dataloader.py:617: UserWarning: This DataLoader will create 4 worker processes in total. Our suggested max number of worker in current system is 2, which is smaller than what this DataLoader is going to create. Please be aware that excessive worker creation might get DataLoader running slow or even freeze, lower the worker number to avoid potential slowness/freeze if necessary.\n",
            "  warnings.warn(\n"
          ]
        },
        {
          "metadata": {
            "tags": null
          },
          "name": "stdout",
          "output_type": "stream",
          "text": [
            "train_loss: 2.1387, train_avg_precision:0.875\n"
          ]
        },
        {
          "metadata": {
            "tags": null
          },
          "name": "stderr",
          "output_type": "stream",
          "text": [
            "/usr/local/lib/python3.10/dist-packages/torch/utils/data/dataloader.py:617: UserWarning: This DataLoader will create 4 worker processes in total. Our suggested max number of worker in current system is 2, which is smaller than what this DataLoader is going to create. Please be aware that excessive worker creation might get DataLoader running slow or even freeze, lower the worker number to avoid potential slowness/freeze if necessary.\n",
            "  warnings.warn(\n"
          ]
        },
        {
          "metadata": {
            "tags": null
          },
          "name": "stdout",
          "output_type": "stream",
          "text": [
            "val_loss: 1.7672, val_avg_precision:0.912\n",
            "-------Epoch 4----------\n"
          ]
        },
        {
          "metadata": {
            "tags": null
          },
          "name": "stderr",
          "output_type": "stream",
          "text": [
            "/usr/local/lib/python3.10/dist-packages/torch/utils/data/dataloader.py:617: UserWarning: This DataLoader will create 4 worker processes in total. Our suggested max number of worker in current system is 2, which is smaller than what this DataLoader is going to create. Please be aware that excessive worker creation might get DataLoader running slow or even freeze, lower the worker number to avoid potential slowness/freeze if necessary.\n",
            "  warnings.warn(\n"
          ]
        },
        {
          "metadata": {
            "tags": null
          },
          "name": "stdout",
          "output_type": "stream",
          "text": [
            "train_loss: 1.8756, train_avg_precision:0.900\n"
          ]
        },
        {
          "metadata": {
            "tags": null
          },
          "name": "stderr",
          "output_type": "stream",
          "text": [
            "/usr/local/lib/python3.10/dist-packages/torch/utils/data/dataloader.py:617: UserWarning: This DataLoader will create 4 worker processes in total. Our suggested max number of worker in current system is 2, which is smaller than what this DataLoader is going to create. Please be aware that excessive worker creation might get DataLoader running slow or even freeze, lower the worker number to avoid potential slowness/freeze if necessary.\n",
            "  warnings.warn(\n"
          ]
        },
        {
          "metadata": {
            "tags": null
          },
          "name": "stdout",
          "output_type": "stream",
          "text": [
            "val_loss: 1.6220, val_avg_precision:0.925\n",
            "-------Epoch 5----------\n"
          ]
        },
        {
          "metadata": {
            "tags": null
          },
          "name": "stderr",
          "output_type": "stream",
          "text": [
            "/usr/local/lib/python3.10/dist-packages/torch/utils/data/dataloader.py:617: UserWarning: This DataLoader will create 4 worker processes in total. Our suggested max number of worker in current system is 2, which is smaller than what this DataLoader is going to create. Please be aware that excessive worker creation might get DataLoader running slow or even freeze, lower the worker number to avoid potential slowness/freeze if necessary.\n",
            "  warnings.warn(\n"
          ]
        },
        {
          "metadata": {
            "tags": null
          },
          "name": "stdout",
          "output_type": "stream",
          "text": [
            "train_loss: 1.7399, train_avg_precision:0.911\n"
          ]
        },
        {
          "metadata": {
            "tags": null
          },
          "name": "stderr",
          "output_type": "stream",
          "text": [
            "/usr/local/lib/python3.10/dist-packages/torch/utils/data/dataloader.py:617: UserWarning: This DataLoader will create 4 worker processes in total. Our suggested max number of worker in current system is 2, which is smaller than what this DataLoader is going to create. Please be aware that excessive worker creation might get DataLoader running slow or even freeze, lower the worker number to avoid potential slowness/freeze if necessary.\n",
            "  warnings.warn(\n"
          ]
        },
        {
          "metadata": {
            "tags": null
          },
          "name": "stdout",
          "output_type": "stream",
          "text": [
            "val_loss: 1.5254, val_avg_precision:0.931\n",
            "-------Epoch 6----------\n"
          ]
        },
        {
          "metadata": {
            "tags": null
          },
          "name": "stderr",
          "output_type": "stream",
          "text": [
            "/usr/local/lib/python3.10/dist-packages/torch/utils/data/dataloader.py:617: UserWarning: This DataLoader will create 4 worker processes in total. Our suggested max number of worker in current system is 2, which is smaller than what this DataLoader is going to create. Please be aware that excessive worker creation might get DataLoader running slow or even freeze, lower the worker number to avoid potential slowness/freeze if necessary.\n",
            "  warnings.warn(\n"
          ]
        },
        {
          "metadata": {
            "tags": null
          },
          "name": "stdout",
          "output_type": "stream",
          "text": [
            "train_loss: 1.6250, train_avg_precision:0.924\n"
          ]
        },
        {
          "metadata": {
            "tags": null
          },
          "name": "stderr",
          "output_type": "stream",
          "text": [
            "/usr/local/lib/python3.10/dist-packages/torch/utils/data/dataloader.py:617: UserWarning: This DataLoader will create 4 worker processes in total. Our suggested max number of worker in current system is 2, which is smaller than what this DataLoader is going to create. Please be aware that excessive worker creation might get DataLoader running slow or even freeze, lower the worker number to avoid potential slowness/freeze if necessary.\n",
            "  warnings.warn(\n"
          ]
        },
        {
          "metadata": {
            "tags": null
          },
          "name": "stdout",
          "output_type": "stream",
          "text": [
            "val_loss: 1.4708, val_avg_precision:0.935\n",
            "-------Epoch 7----------\n"
          ]
        },
        {
          "metadata": {
            "tags": null
          },
          "name": "stderr",
          "output_type": "stream",
          "text": [
            "/usr/local/lib/python3.10/dist-packages/torch/utils/data/dataloader.py:617: UserWarning: This DataLoader will create 4 worker processes in total. Our suggested max number of worker in current system is 2, which is smaller than what this DataLoader is going to create. Please be aware that excessive worker creation might get DataLoader running slow or even freeze, lower the worker number to avoid potential slowness/freeze if necessary.\n",
            "  warnings.warn(\n"
          ]
        },
        {
          "metadata": {
            "tags": null
          },
          "name": "stdout",
          "output_type": "stream",
          "text": [
            "train_loss: 1.5477, train_avg_precision:0.929\n"
          ]
        },
        {
          "metadata": {
            "tags": null
          },
          "name": "stderr",
          "output_type": "stream",
          "text": [
            "/usr/local/lib/python3.10/dist-packages/torch/utils/data/dataloader.py:617: UserWarning: This DataLoader will create 4 worker processes in total. Our suggested max number of worker in current system is 2, which is smaller than what this DataLoader is going to create. Please be aware that excessive worker creation might get DataLoader running slow or even freeze, lower the worker number to avoid potential slowness/freeze if necessary.\n",
            "  warnings.warn(\n"
          ]
        },
        {
          "metadata": {
            "tags": null
          },
          "name": "stdout",
          "output_type": "stream",
          "text": [
            "val_loss: 1.4432, val_avg_precision:0.936\n",
            "-------Epoch 8----------\n"
          ]
        },
        {
          "metadata": {
            "tags": null
          },
          "name": "stderr",
          "output_type": "stream",
          "text": [
            "/usr/local/lib/python3.10/dist-packages/torch/utils/data/dataloader.py:617: UserWarning: This DataLoader will create 4 worker processes in total. Our suggested max number of worker in current system is 2, which is smaller than what this DataLoader is going to create. Please be aware that excessive worker creation might get DataLoader running slow or even freeze, lower the worker number to avoid potential slowness/freeze if necessary.\n",
            "  warnings.warn(\n"
          ]
        },
        {
          "metadata": {
            "tags": null
          },
          "name": "stdout",
          "output_type": "stream",
          "text": [
            "train_loss: 1.5074, train_avg_precision:0.931\n"
          ]
        },
        {
          "metadata": {
            "tags": null
          },
          "name": "stderr",
          "output_type": "stream",
          "text": [
            "/usr/local/lib/python3.10/dist-packages/torch/utils/data/dataloader.py:617: UserWarning: This DataLoader will create 4 worker processes in total. Our suggested max number of worker in current system is 2, which is smaller than what this DataLoader is going to create. Please be aware that excessive worker creation might get DataLoader running slow or even freeze, lower the worker number to avoid potential slowness/freeze if necessary.\n",
            "  warnings.warn(\n"
          ]
        },
        {
          "output_type": "stream",
          "name": "stdout",
          "text": [
            "val_loss: 1.4090, val_avg_precision:0.938\n",
            "-------Epoch 9----------\n"
          ]
        },
        {
          "output_type": "stream",
          "name": "stderr",
          "text": [
            "/usr/local/lib/python3.10/dist-packages/torch/utils/data/dataloader.py:617: UserWarning: This DataLoader will create 4 worker processes in total. Our suggested max number of worker in current system is 2, which is smaller than what this DataLoader is going to create. Please be aware that excessive worker creation might get DataLoader running slow or even freeze, lower the worker number to avoid potential slowness/freeze if necessary.\n",
            "  warnings.warn(\n"
          ]
        },
        {
          "output_type": "stream",
          "name": "stdout",
          "text": [
            "train_loss: 1.4793, train_avg_precision:0.934\n"
          ]
        },
        {
          "output_type": "stream",
          "name": "stderr",
          "text": [
            "/usr/local/lib/python3.10/dist-packages/torch/utils/data/dataloader.py:617: UserWarning: This DataLoader will create 4 worker processes in total. Our suggested max number of worker in current system is 2, which is smaller than what this DataLoader is going to create. Please be aware that excessive worker creation might get DataLoader running slow or even freeze, lower the worker number to avoid potential slowness/freeze if necessary.\n",
            "  warnings.warn(\n"
          ]
        },
        {
          "output_type": "stream",
          "name": "stdout",
          "text": [
            "val_loss: 1.4029, val_avg_precision:0.939\n",
            "-------Epoch 10----------\n"
          ]
        },
        {
          "output_type": "stream",
          "name": "stderr",
          "text": [
            "/usr/local/lib/python3.10/dist-packages/torch/utils/data/dataloader.py:617: UserWarning: This DataLoader will create 4 worker processes in total. Our suggested max number of worker in current system is 2, which is smaller than what this DataLoader is going to create. Please be aware that excessive worker creation might get DataLoader running slow or even freeze, lower the worker number to avoid potential slowness/freeze if necessary.\n",
            "  warnings.warn(\n"
          ]
        },
        {
          "output_type": "stream",
          "name": "stdout",
          "text": [
            "train_loss: 1.4563, train_avg_precision:0.936\n"
          ]
        },
        {
          "output_type": "stream",
          "name": "stderr",
          "text": [
            "/usr/local/lib/python3.10/dist-packages/torch/utils/data/dataloader.py:617: UserWarning: This DataLoader will create 4 worker processes in total. Our suggested max number of worker in current system is 2, which is smaller than what this DataLoader is going to create. Please be aware that excessive worker creation might get DataLoader running slow or even freeze, lower the worker number to avoid potential slowness/freeze if necessary.\n",
            "  warnings.warn(\n"
          ]
        },
        {
          "output_type": "stream",
          "name": "stdout",
          "text": [
            "val_loss: 1.3989, val_avg_precision:0.939\n",
            "-------Epoch 11----------\n"
          ]
        },
        {
          "output_type": "stream",
          "name": "stderr",
          "text": [
            "/usr/local/lib/python3.10/dist-packages/torch/utils/data/dataloader.py:617: UserWarning: This DataLoader will create 4 worker processes in total. Our suggested max number of worker in current system is 2, which is smaller than what this DataLoader is going to create. Please be aware that excessive worker creation might get DataLoader running slow or even freeze, lower the worker number to avoid potential slowness/freeze if necessary.\n",
            "  warnings.warn(\n"
          ]
        },
        {
          "output_type": "stream",
          "name": "stdout",
          "text": [
            "train_loss: 1.4504, train_avg_precision:0.938\n"
          ]
        },
        {
          "output_type": "stream",
          "name": "stderr",
          "text": [
            "/usr/local/lib/python3.10/dist-packages/torch/utils/data/dataloader.py:617: UserWarning: This DataLoader will create 4 worker processes in total. Our suggested max number of worker in current system is 2, which is smaller than what this DataLoader is going to create. Please be aware that excessive worker creation might get DataLoader running slow or even freeze, lower the worker number to avoid potential slowness/freeze if necessary.\n",
            "  warnings.warn(\n"
          ]
        },
        {
          "output_type": "stream",
          "name": "stdout",
          "text": [
            "val_loss: 1.4013, val_avg_precision:0.940\n",
            "-------Epoch 12----------\n"
          ]
        },
        {
          "output_type": "stream",
          "name": "stderr",
          "text": [
            "/usr/local/lib/python3.10/dist-packages/torch/utils/data/dataloader.py:617: UserWarning: This DataLoader will create 4 worker processes in total. Our suggested max number of worker in current system is 2, which is smaller than what this DataLoader is going to create. Please be aware that excessive worker creation might get DataLoader running slow or even freeze, lower the worker number to avoid potential slowness/freeze if necessary.\n",
            "  warnings.warn(\n"
          ]
        },
        {
          "output_type": "stream",
          "name": "stdout",
          "text": [
            "train_loss: 1.4563, train_avg_precision:0.937\n"
          ]
        },
        {
          "output_type": "stream",
          "name": "stderr",
          "text": [
            "/usr/local/lib/python3.10/dist-packages/torch/utils/data/dataloader.py:617: UserWarning: This DataLoader will create 4 worker processes in total. Our suggested max number of worker in current system is 2, which is smaller than what this DataLoader is going to create. Please be aware that excessive worker creation might get DataLoader running slow or even freeze, lower the worker number to avoid potential slowness/freeze if necessary.\n",
            "  warnings.warn(\n"
          ]
        },
        {
          "output_type": "stream",
          "name": "stdout",
          "text": [
            "val_loss: 1.3991, val_avg_precision:0.939\n",
            "-------Epoch 13----------\n"
          ]
        },
        {
          "output_type": "stream",
          "name": "stderr",
          "text": [
            "/usr/local/lib/python3.10/dist-packages/torch/utils/data/dataloader.py:617: UserWarning: This DataLoader will create 4 worker processes in total. Our suggested max number of worker in current system is 2, which is smaller than what this DataLoader is going to create. Please be aware that excessive worker creation might get DataLoader running slow or even freeze, lower the worker number to avoid potential slowness/freeze if necessary.\n",
            "  warnings.warn(\n"
          ]
        },
        {
          "output_type": "stream",
          "name": "stdout",
          "text": [
            "train_loss: 1.4535, train_avg_precision:0.935\n"
          ]
        },
        {
          "output_type": "stream",
          "name": "stderr",
          "text": [
            "/usr/local/lib/python3.10/dist-packages/torch/utils/data/dataloader.py:617: UserWarning: This DataLoader will create 4 worker processes in total. Our suggested max number of worker in current system is 2, which is smaller than what this DataLoader is going to create. Please be aware that excessive worker creation might get DataLoader running slow or even freeze, lower the worker number to avoid potential slowness/freeze if necessary.\n",
            "  warnings.warn(\n"
          ]
        },
        {
          "output_type": "stream",
          "name": "stdout",
          "text": [
            "val_loss: 1.4141, val_avg_precision:0.939\n",
            "-------Epoch 14----------\n"
          ]
        },
        {
          "output_type": "stream",
          "name": "stderr",
          "text": [
            "/usr/local/lib/python3.10/dist-packages/torch/utils/data/dataloader.py:617: UserWarning: This DataLoader will create 4 worker processes in total. Our suggested max number of worker in current system is 2, which is smaller than what this DataLoader is going to create. Please be aware that excessive worker creation might get DataLoader running slow or even freeze, lower the worker number to avoid potential slowness/freeze if necessary.\n",
            "  warnings.warn(\n"
          ]
        },
        {
          "output_type": "stream",
          "name": "stdout",
          "text": [
            "train_loss: 1.4525, train_avg_precision:0.937\n"
          ]
        },
        {
          "output_type": "stream",
          "name": "stderr",
          "text": [
            "/usr/local/lib/python3.10/dist-packages/torch/utils/data/dataloader.py:617: UserWarning: This DataLoader will create 4 worker processes in total. Our suggested max number of worker in current system is 2, which is smaller than what this DataLoader is going to create. Please be aware that excessive worker creation might get DataLoader running slow or even freeze, lower the worker number to avoid potential slowness/freeze if necessary.\n",
            "  warnings.warn(\n"
          ]
        },
        {
          "output_type": "stream",
          "name": "stdout",
          "text": [
            "val_loss: 1.3954, val_avg_precision:0.940\n",
            "-------Epoch 15----------\n"
          ]
        },
        {
          "output_type": "stream",
          "name": "stderr",
          "text": [
            "/usr/local/lib/python3.10/dist-packages/torch/utils/data/dataloader.py:617: UserWarning: This DataLoader will create 4 worker processes in total. Our suggested max number of worker in current system is 2, which is smaller than what this DataLoader is going to create. Please be aware that excessive worker creation might get DataLoader running slow or even freeze, lower the worker number to avoid potential slowness/freeze if necessary.\n",
            "  warnings.warn(\n"
          ]
        },
        {
          "output_type": "stream",
          "name": "stdout",
          "text": [
            "train_loss: 1.4415, train_avg_precision:0.937\n"
          ]
        },
        {
          "output_type": "stream",
          "name": "stderr",
          "text": [
            "/usr/local/lib/python3.10/dist-packages/torch/utils/data/dataloader.py:617: UserWarning: This DataLoader will create 4 worker processes in total. Our suggested max number of worker in current system is 2, which is smaller than what this DataLoader is going to create. Please be aware that excessive worker creation might get DataLoader running slow or even freeze, lower the worker number to avoid potential slowness/freeze if necessary.\n",
            "  warnings.warn(\n"
          ]
        },
        {
          "output_type": "stream",
          "name": "stdout",
          "text": [
            "val_loss: 1.3842, val_avg_precision:0.939\n"
          ]
        }
      ],
      "source": [
        "import os\n",
        "import gc\n",
        "import math\n",
        "import numpy as np\n",
        "import torch\n",
        "import torch.nn as nn\n",
        "import torch.optim as optim\n",
        "import torch.utils.model_zoo as model_zoo\n",
        "from torch.utils.data import DataLoader\n",
        "import torchvision.models as models\n",
        "import torchvision.transforms as transforms\n",
        "import matplotlib.pyplot as plt\n",
        "from sklearn.metrics import average_precision_score\n",
        "\n",
        "\n",
        "object_categories = ['aeroplane', 'bicycle', 'bird', 'boat', 'bottle', 'bus', 'car', 'cat',\n",
        "                     'chair', 'cow', 'diningtable', 'dog', 'horse', 'motorbike', 'person',\n",
        "                     'pottedplant', 'sheep', 'sofa', 'train', 'tvmonitor']\n",
        "\n",
        "def encode_labels(target):\n",
        "\n",
        "    ls = target['annotation']['object']\n",
        "    j = []\n",
        "    if isinstance(ls, dict):\n",
        "        if int(ls['difficult']) == 0:\n",
        "            j.append(object_categories.index(ls['name']))\n",
        "    else:\n",
        "        for item in ls:\n",
        "            if int(item['difficult']) == 0:\n",
        "                j.append(object_categories.index(item['name']))\n",
        "\n",
        "    k = np.zeros(len(object_categories))\n",
        "    k[j] = 1\n",
        "    return torch.from_numpy(k)\n",
        "\n",
        "def get_ap_score(y_true, y_scores):\n",
        "\n",
        "    scores = 0.0\n",
        "    for i in range(y_true.shape[0]):\n",
        "        scores += average_precision_score(y_true=y_true[i], y_score=y_scores[i])\n",
        "    return scores\n",
        "\n",
        "def plot_history(train_hist, val_hist, y_label, filename, labels=[\"train\", \"validation\"]):\n",
        "\n",
        "    xi = [i for i in range(0, len(train_hist), 2)]\n",
        "    plt.figure()\n",
        "    plt.plot(train_hist, label=labels[0])\n",
        "    plt.plot(val_hist, label=labels[1])\n",
        "    plt.xticks(xi)\n",
        "    plt.legend()\n",
        "    plt.xlabel(\"Epoch\")\n",
        "    plt.ylabel(y_label)\n",
        "    plt.savefig(filename)\n",
        "    plt.close()\n",
        "\n",
        "def train_model(model, device, optimizer, scheduler, train_loader, valid_loader, save_dir, model_num, epochs, log_file):\n",
        "\n",
        "    tr_loss, tr_map = [], []\n",
        "    val_loss, val_map = [], []\n",
        "    best_val_map = 0.0\n",
        "\n",
        "    for epoch in range(epochs):\n",
        "        print(f\"-------Epoch {epoch+1}----------\")\n",
        "        log_file.write(f\"Epoch {epoch+1} >>\")\n",
        "        scheduler.step()\n",
        "\n",
        "\n",
        "        model.train(True)\n",
        "        running_loss = 0.0\n",
        "        running_ap = 0.0\n",
        "\n",
        "        criterion = nn.BCEWithLogitsLoss(reduction='sum')\n",
        "        m = nn.Sigmoid()\n",
        "\n",
        "        for data, target in train_loader:\n",
        "            target = target.float()\n",
        "            data, target = data.to(device), target.to(device)\n",
        "\n",
        "            optimizer.zero_grad()\n",
        "            output = model(data)\n",
        "\n",
        "            loss = criterion(output, target)\n",
        "\n",
        "            running_loss += loss\n",
        "            running_ap += get_ap_score(torch.Tensor.cpu(target).detach().numpy(),\n",
        "                                        torch.Tensor.cpu(m(output)).detach().numpy())\n",
        "\n",
        "            loss.backward()\n",
        "            optimizer.step()\n",
        "\n",
        "            #\n",
        "            del data, target, output\n",
        "            gc.collect()\n",
        "            torch.cuda.empty_cache()\n",
        "\n",
        "        num_samples = float(len(train_loader.dataset))\n",
        "        tr_loss_ = running_loss.item() / num_samples\n",
        "        tr_map_ = running_ap / num_samples\n",
        "\n",
        "        print(f'train_loss: {tr_loss_:.4f}, train_avg_precision:{tr_map_:.3f}')\n",
        "        log_file.write(f'train_loss: {tr_loss_:.4f}, train_avg_precision:{tr_map_:.3f}, ')\n",
        "\n",
        "        tr_loss.append(tr_loss_)\n",
        "        tr_map.append(tr_map_)\n",
        "\n",
        "\n",
        "        model.train(False)\n",
        "        running_loss = 0.0\n",
        "        running_ap = 0.0\n",
        "\n",
        "        with torch.no_grad():\n",
        "            for data, target in valid_loader:\n",
        "                target = target.float()\n",
        "                data, target = data.to(device), target.to(device)\n",
        "                output = model(data)\n",
        "\n",
        "                loss = criterion(output, target)\n",
        "\n",
        "                running_loss += loss\n",
        "                running_ap += get_ap_score(torch.Tensor.cpu(target).detach().numpy(),\n",
        "                                            torch.Tensor.cpu(m(output)).detach().numpy())\n",
        "\n",
        "                del data, target, output\n",
        "                gc.collect()\n",
        "                torch.cuda.empty_cache()\n",
        "\n",
        "            num_samples = float(len(valid_loader.dataset))\n",
        "            val_loss_ = running_loss.item() / num_samples\n",
        "            val_map_ = running_ap / num_samples\n",
        "\n",
        "            val_loss.append(val_loss_)\n",
        "            val_map.append(val_map_)\n",
        "\n",
        "            print(f'val_loss: {val_loss_:.4f}, val_avg_precision:{val_map_:.3f}')\n",
        "            log_file.write(f'val_loss: {val_loss_:.4f}, val_avg_precision:{val_map_:.3f}\\n')\n",
        "\n",
        "\n",
        "            if val_map_ >= best_val_map:\n",
        "                best_val_map = val_map_\n",
        "                log_file.write(\"saving best weights...\\n\")\n",
        "                torch.save(model.state_dict(), os.path.join(save_dir, f\"model-{model_num}.pth\"))\n",
        "\n",
        "    return ([tr_loss, tr_map], [val_loss, val_map])\n",
        "\n",
        "def main():\n",
        "\n",
        "    data_dir = '/content/data'\n",
        "    model_name = 'resnet50'\n",
        "    num = 1\n",
        "    lr = [1e-5, 5e-3]\n",
        "    epochs = 15\n",
        "    batch_size = 32\n",
        "    download_data = True\n",
        "\n",
        "\n",
        "    model_dir = os.path.join(\"models\", model_name)\n",
        "    os.makedirs(model_dir, exist_ok=True)\n",
        "\n",
        "\n",
        "    model_urls = {\n",
        "        'resnet50': 'https://download.pytorch.org/models/resnet50-19c8e357.pth'\n",
        "    }\n",
        "\n",
        "\n",
        "    use_cuda = torch.cuda.is_available()\n",
        "    np.random.seed(2019)\n",
        "    torch.manual_seed(2019)\n",
        "    device = torch.device(\"cuda\" if use_cuda else \"cpu\")\n",
        "    print(f\"Available device = {device}\")\n",
        "\n",
        "\n",
        "    model = models.resnet50()\n",
        "    model.load_state_dict(model_zoo.load_url(model_urls[model_name]))\n",
        "    model.avgpool = nn.AdaptiveAvgPool2d(1)\n",
        "    num_ftrs = model.fc.in_features\n",
        "    model.fc = nn.Linear(num_ftrs, 20)\n",
        "    model.to(device)\n",
        "\n",
        "\n",
        "    optimizer = optim.SGD([\n",
        "        {'params': list(model.parameters())[:-1], 'lr': lr[0], 'momentum': 0.9},\n",
        "        {'params': list(model.parameters())[-1], 'lr': lr[1], 'momentum': 0.9}\n",
        "    ])\n",
        "\n",
        "\n",
        "    scheduler = optim.lr_scheduler.CosineAnnealingLR(optimizer, T_max=12, eta_min=0, last_epoch=-1)\n",
        "\n",
        "\n",
        "    mean = [0.457342265910642, 0.4387686270106377, 0.4073427106250871]\n",
        "    std = [0.26753769276329037, 0.2638145880487105, 0.2776826934044154]\n",
        "\n",
        "\n",
        "    transformations = transforms.Compose([\n",
        "        transforms.Resize((300, 300)),\n",
        "        transforms.RandomChoice([\n",
        "            transforms.ColorJitter(brightness=(0.80, 1.20)),\n",
        "            transforms.RandomGrayscale(p=0.25)\n",
        "        ]),\n",
        "        transforms.RandomHorizontalFlip(p=0.25),\n",
        "        transforms.RandomRotation(25),\n",
        "        transforms.ToTensor(),\n",
        "        transforms.Normalize(mean=mean, std=std),\n",
        "    ])\n",
        "\n",
        "    transformations_valid = transforms.Compose([\n",
        "        transforms.Resize(330),\n",
        "        transforms.CenterCrop(300),\n",
        "        transforms.ToTensor(),\n",
        "        transforms.Normalize(mean=mean, std=std),\n",
        "    ])\n",
        "\n",
        "\n",
        "    from dataset import PascalVOC_Dataset\n",
        "\n",
        "    dataset_train = PascalVOC_Dataset(\n",
        "        data_dir,\n",
        "        year='2012',\n",
        "        image_set='train',\n",
        "        download=download_data,\n",
        "        transform=transformations,\n",
        "        target_transform=encode_labels\n",
        "    )\n",
        "\n",
        "    train_loader = DataLoader(dataset_train, batch_size=batch_size, num_workers=4, shuffle=True)\n",
        "\n",
        "    dataset_valid = PascalVOC_Dataset(\n",
        "        data_dir,\n",
        "        year='2012',\n",
        "        image_set='val',\n",
        "        download=download_data,\n",
        "        transform=transformations_valid,\n",
        "        target_transform=encode_labels\n",
        "    )\n",
        "\n",
        "    valid_loader = DataLoader(dataset_valid, batch_size=batch_size, num_workers=4)\n",
        "\n",
        "\n",
        "    log_file = open(os.path.join(model_dir, f\"log-{num}.txt\"), \"w+\")\n",
        "    log_file.write(f\"----------Experiment {num} - {model_name}-----------\\n\")\n",
        "    log_file.write(f\"transformations == {transformations}\\n\")\n",
        "\n",
        "\n",
        "    trn_hist, val_hist = train_model(\n",
        "        model, device, optimizer, scheduler,\n",
        "        train_loader, valid_loader, model_dir, num, epochs, log_file\n",
        "    )\n",
        "\n",
        "\n",
        "    plot_history(trn_hist[0], val_hist[0], \"Loss\", os.path.join(model_dir, f\"loss-{num}.png\"))\n",
        "    plot_history(trn_hist[1], val_hist[1], \"Accuracy\", os.path.join(model_dir, f\"accuracy-{num}.png\"))\n",
        "\n",
        "    log_file.close()\n",
        "\n",
        "if __name__ == \"__main__\":\n",
        "    main()"
      ]
    },
    {
      "cell_type": "code",
      "source": [
        "def plot_learning_rate(optimizer, filename):\n",
        "\n",
        "    lr_history = []\n",
        "    for param_group in optimizer.param_groups:\n",
        "        lr_history.append([])\n",
        "\n",
        "    plt.figure(figsize=(10, 6))\n",
        "    for epoch in range(epochs):\n",
        "        for i, param_group in enumerate(optimizer.param_groups):\n",
        "            lr_history[i].append(param_group['lr'])\n",
        "        scheduler.step()\n",
        "\n",
        "    labels = ['Backbone LR', 'FC Layer LR']\n",
        "    for i, lrs in enumerate(lr_history):\n",
        "        plt.plot(lrs, label=labels[i])\n",
        "\n",
        "    plt.title('Learning Rate Decay')\n",
        "    plt.xlabel('Epoch')\n",
        "    plt.ylabel('Learning Rate')\n",
        "    plt.legend()\n",
        "    plt.tight_layout()\n",
        "    plt.savefig(filename)\n",
        "    plt.close()\n",
        "\n",
        "def plot_detailed_metrics(trn_hist, val_hist, metric_name, filename):\n",
        "\n",
        "    plt.figure(figsize=(12, 6))\n",
        "\n",
        "\n",
        "    plt.subplot(1, 2, 1)\n",
        "    plt.plot(trn_hist, label=f'Train {metric_name}', color='blue')\n",
        "    plt.plot(val_hist, label=f'Validation {metric_name}', color='red')\n",
        "    plt.title(f'{metric_name} Progression')\n",
        "    plt.xlabel('Epoch')\n",
        "    plt.ylabel(metric_name)\n",
        "    plt.legend()\n",
        "\n",
        "\n",
        "    plt.subplot(1, 2, 2)\n",
        "    difference = [t - v for t, v in zip(trn_hist, val_hist)]\n",
        "    plt.plot(difference, label=f'{metric_name} Difference', color='green')\n",
        "    plt.title(f'{metric_name} Train-Validation Difference')\n",
        "    plt.xlabel('Epoch')\n",
        "    plt.ylabel(f'{metric_name} Difference')\n",
        "    plt.axhline(y=0, color='r', linestyle='--')\n",
        "    plt.legend()\n",
        "\n",
        "    plt.tight_layout()\n",
        "    plt.savefig(filename)\n",
        "    plt.close()\n",
        "\n",
        "\n",
        "def main():\n",
        "\n",
        "\n",
        "\n",
        "    trn_hist, val_hist = train_model(\n",
        "        model, device, optimizer, scheduler,\n",
        "        train_loader, valid_loader, model_dir, num, epochs, log_file\n",
        "    )\n",
        "\n",
        "\n",
        "    plot_history(trn_hist[0], val_hist[0], \"Loss\", os.path.join(model_dir, f\"loss-{num}.png\"))\n",
        "    plot_history(trn_hist[1], val_hist[1], \"Accuracy\", os.path.join(model_dir, f\"accuracy-{num}.png\"))\n",
        "\n",
        "\n",
        "    plot_detailed_metrics(trn_hist[0], val_hist[0], \"Loss\", os.path.join(model_dir, f\"detailed-loss-{num}.png\"))\n",
        "    plot_detailed_metrics(trn_hist[1], val_hist[1], \"Accuracy\", os.path.join(model_dir, f\"detailed-accuracy-{num}.png\"))\n",
        "\n",
        "\n",
        "    plot_learning_rate(optimizer, os.path.join(model_dir, f\"learning-rates-{num}.png\"))\n",
        "\n",
        "    log_file.close()"
      ],
      "metadata": {
        "id": "jpr8Eu1uNEX-"
      },
      "execution_count": 2,
      "outputs": []
    },
    {
      "cell_type": "code",
      "source": [
        "def plot_metrics(trn_hist, val_hist):\n",
        "\n",
        "    plt.figure(figsize=(16, 10))\n",
        "\n",
        "\n",
        "    plt.subplot(2, 2, 1)\n",
        "    plt.plot(trn_hist[0], label='Train Loss', color='blue')\n",
        "    plt.plot(val_hist[0], label='Validation Loss', color='red')\n",
        "    plt.title('Loss Progression')\n",
        "    plt.xlabel('Epoch')\n",
        "    plt.ylabel('Loss')\n",
        "    plt.legend()\n",
        "\n",
        "\n",
        "    plt.subplot(2, 2, 2)\n",
        "    plt.plot(trn_hist[1], label='Train Accuracy', color='green')\n",
        "    plt.plot(val_hist[1], label='Validation Accuracy', color='orange')\n",
        "    plt.title('Accuracy Progression')\n",
        "    plt.xlabel('Epoch')\n",
        "    plt.ylabel('Accuracy')\n",
        "    plt.legend()\n",
        "\n",
        "\n",
        "    lr_history = []\n",
        "    for param_group in optimizer.param_groups:\n",
        "        lr_history.append([])\n",
        "\n",
        "    for epoch in range(epochs):\n",
        "        for i, param_group in enumerate(optimizer.param_groups):\n",
        "            lr_history[i].append(param_group['lr'])\n",
        "        scheduler.step()\n",
        "\n",
        "    plt.subplot(2, 2, 3)\n",
        "    labels = ['Backbone LR', 'FC Layer LR']\n",
        "    for i, lrs in enumerate(lr_history):\n",
        "        plt.plot(lrs, label=labels[i])\n",
        "    plt.title('Learning Rate Decay')\n",
        "    plt.xlabel('Epoch')\n",
        "    plt.ylabel('Learning Rate')\n",
        "    plt.legend()\n",
        "\n",
        "    plt.subplot(2, 2, 4)\n",
        "    loss_diff = [t - v for t, v in zip(trn_hist[0], val_hist[0])]\n",
        "    plt.plot(loss_diff, label='Train-Validation Loss Difference', color='purple')\n",
        "    plt.axhline(y=0, color='r', linestyle='--')\n",
        "    plt.title('Loss Difference')\n",
        "    plt.xlabel('Epoch')\n",
        "    plt.ylabel('Loss Difference')\n",
        "    plt.legend()\n",
        "\n",
        "    plt.tight_layout()\n",
        "    plt.show()\n",
        "\n",
        "\n",
        "def main():\n",
        "\n",
        "    trn_hist, val_hist = train_model(\n",
        "        model, device, optimizer, scheduler,\n",
        "        train_loader, valid_loader, model_dir, num, epochs, log_file\n",
        "    )\n",
        "\n",
        "\n",
        "    plot_metrics(trn_hist, val_hist)\n",
        "\n",
        "    log_file.close()\n",
        "\n"
      ],
      "metadata": {
        "id": "7geo2DF2Nmj5"
      },
      "execution_count": 4,
      "outputs": []
    },
    {
      "cell_type": "code",
      "source": [
        "from PIL import Image\n",
        "import matplotlib.pyplot as plt\n",
        "\n",
        "\n",
        "image = Image.open('/content/models/resnet50/accuracy-1.png')\n",
        "\n",
        "\n",
        "plt.imshow(image)\n",
        "plt.axis('off')\n",
        "plt.show()\n"
      ],
      "metadata": {
        "colab": {
          "base_uri": "https://localhost:8080/",
          "height": 406
        },
        "id": "k7vO9nvqOY9A",
        "outputId": "8d931c5a-15fe-4fc7-c772-46424ec62520"
      },
      "execution_count": 5,
      "outputs": [
        {
          "output_type": "display_data",
          "data": {
            "text/plain": [
              "<Figure size 640x480 with 1 Axes>"
            ],
            "image/png": "[encoded data removed]"
          },
          "metadata": {}
        }
      ]
    },
    {
      "cell_type": "code",
      "source": [
        "from PIL import Image\n",
        "import matplotlib.pyplot as plt\n",
        "\n",
        "\n",
        "image = Image.open('/content/models/resnet50/loss-1.png')\n",
        "\n",
        "\n",
        "plt.imshow(image)\n",
        "plt.axis('off')\n",
        "plt.show()\n"
      ],
      "metadata": {
        "colab": {
          "base_uri": "https://localhost:8080/",
          "height": 406
        },
        "id": "9LH_rYeQOc5S",
        "outputId": "e1f96e42-1cd0-412c-a3b1-f2c168914d25"
      },
      "execution_count": 8,
      "outputs": [
        {
          "output_type": "display_data",
          "data": {
            "text/plain": [
              "<Figure size 640x480 with 1 Axes>"
            ],
            "image/png": "[encoded data removed]"
          },
          "metadata": {}
        }
      ]
    }
  ]
}